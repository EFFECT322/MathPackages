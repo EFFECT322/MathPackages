{
 "cells": [
  {
   "cell_type": "markdown",
   "id": "e8b6da1f",
   "metadata": {},
   "source": [
    "# Математические пакеты.\n",
    "\n",
    "## Лабораторная работа 3.\n",
    "Выполнил студент группы 9381 Николаев Александр\n",
    "\n",
    "### Цель работы.\n",
    "Практическое применение библиотеки символьных вычислений Python(SymPy) для решения задач дискретной математики и математической логики.\n",
    "\n",
    "### Задачи лабораторной работы.\n",
    "\n",
    "1. Решить свой вариант диофантова уравнения.\n",
    "2. Имея открытую часть ключа RSA найти соответствующую закрытую часть и расшифровать кодированное слово.\n",
    "3. Записать в формате ДНФ и КНФ булеву функцию, заданную своим аналитическим выражением."
   ]
  },
  {
   "cell_type": "markdown",
   "id": "223f8820",
   "metadata": {},
   "source": [
    "## Выполнение работы."
   ]
  },
  {
   "cell_type": "markdown",
   "id": "54657f49",
   "metadata": {},
   "source": [
    "### Диофантово уравнение.\n",
    "Вариант 10. Решить диофантово уравнение 1853x+ 2567y = −136."
   ]
  },
  {
   "cell_type": "code",
   "execution_count": 5,
   "id": "afc70500",
   "metadata": {},
   "outputs": [],
   "source": [
    "import sympy"
   ]
  },
  {
   "cell_type": "code",
   "execution_count": 11,
   "id": "4a4bdedd",
   "metadata": {},
   "outputs": [
    {
     "name": "stdout",
     "output_type": "stream",
     "text": [
      "{(151*t_0 + 144, -109*t_0 - 104)}\n"
     ]
    }
   ],
   "source": [
    "# Вариант 10. Решить диофантово уравнение 1853x+ 2567y = −136.\n",
    "from sympy import sympify\n",
    "from sympy.solvers.diophantine import diophantine\n",
    "\n",
    "print(diophantine(sympify('1853 * x+ 2567 * y + 136')))"
   ]
  },
  {
   "cell_type": "markdown",
   "id": "edf561e4",
   "metadata": {},
   "source": [
    "# RSA кодирование.\n",
    "Вариант 10. Русское слово из четырех букв закодировано при помощи алгоритма RSA открытым ключом (e = 5,m = 39).\n",
    "Шифрованное сообщение имеет вид (32; 5; 4; 11). Подберите закрытую часть ключа и прочитайте исходное слово.\n",
    "Буквам русского алфавита соответсвуют числа в диапазоне от 2 до 32 (исключены буквы “e” и “ъ”)."
   ]
  },
  {
   "cell_type": "code",
   "execution_count": 5,
   "id": "72bd43d1",
   "metadata": {},
   "outputs": [
    {
     "name": "stdout",
     "output_type": "stream",
     "text": [
      "агит\n"
     ]
    }
   ],
   "source": [
    "# Русское слово из четырех букв закодировано при помощи алгоритма RSA открытым ключом (e = 5,m = 39).\n",
    "# Шифрованное сообщение имеет вид (32; 5; 4; 11). Подберите закрытую часть ключа и прочитайте исходное слово.\n",
    "# Буквам русского алфавита соответсвуют числа в диапазоне от 2 до 32 (исключены буквы “e” и “ъ”).\n",
    "from sympy.crypto.crypto import rsa_private_key, decipher_rsa\n",
    "\n",
    "key = rsa_private_key(39, 5)\n",
    "code = [32, 5, 4, 11]\n",
    "\n",
    "pool = ['а', 'б', 'в', 'г', 'д', 'е', 'ж', 'з', 'и', 'й', 'к', 'л', 'м', 'н', 'о', 'п', 'р', 'с', 'т', 'у', 'ф', 'х', 'ц', 'ч', 'ш', 'щ', 'ы', 'ь', 'э', 'ю', 'я']\n",
    "\n",
    "message = ''\n",
    "for index in code:\n",
    "    message += pool[decipher_rsa(index, key) - 2]\n",
    "    \n",
    "print(message)"
   ]
  },
  {
   "cell_type": "markdown",
   "id": "5de91749",
   "metadata": {},
   "source": [
    "### Преобразование булевой функции.\n",
    "Вариант 10. f(x, y, z) = ((yx) xor y) ∨ ((y ∨ z) xor (zx))"
   ]
  },
  {
   "cell_type": "code",
   "execution_count": 8,
   "id": "58676360",
   "metadata": {},
   "outputs": [
    {
     "name": "stdout",
     "output_type": "stream",
     "text": [
      "DNF:  (x & ~z) | (y & ~z) | (z & ~x)\n",
      "CNF:  (x | y | z) & (~x | ~z)\n"
     ]
    }
   ],
   "source": [
    "# f(x, y, z) = ((yx) xor y) ∨ ((y ∨ z) xor (zx)):\n",
    "from sympy.logic.boolalg import to_cnf\n",
    "from sympy.logic.boolalg import to_dnf\n",
    "from sympy.abc import x, y, z\n",
    "\n",
    "exp = (((y&x)^y)|((x|z)^(z&x)))\n",
    "print('DNF: ', to_dnf(exp, True))\n",
    "print('CNF: ', to_cnf(exp, True))"
   ]
  },
  {
   "cell_type": "markdown",
   "id": "91b00db3",
   "metadata": {},
   "source": [
    "### Вывод\n",
    "Была рассмотрена библиотека sympy и решено диофантово уравнение, задача декодирования и преобразования булевой функции."
   ]
  },
  {
   "cell_type": "code",
   "execution_count": null,
   "id": "3b3bf50c",
   "metadata": {},
   "outputs": [],
   "source": []
  }
 ],
 "metadata": {
  "kernelspec": {
   "display_name": "Python 3",
   "language": "python",
   "name": "python3"
  },
  "language_info": {
   "codemirror_mode": {
    "name": "ipython",
    "version": 3
   },
   "file_extension": ".py",
   "mimetype": "text/x-python",
   "name": "python",
   "nbconvert_exporter": "python",
   "pygments_lexer": "ipython3",
   "version": "3.8.8"
  }
 },
 "nbformat": 4,
 "nbformat_minor": 5
}
